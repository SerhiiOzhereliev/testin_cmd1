{
 "cells": [
  {
   "cell_type": "markdown",
   "metadata": {},
   "source": [
    "<center>\n",
    "    <img src=\"https://s3-api.us-geo.objectstorage.softlayer.net/cf-courses-data/CognitiveClass/Logos/organization_logo/organization_logo.png\" width=\"300\" alt=\"cognitiveclass.ai logo\"  />\n",
    "</center>\n"
   ]
  },
  {
   "cell_type": "markdown",
   "metadata": {},
   "source": [
    "# My Jupyter Notebook on IBM Watson Studio"
   ]
  },
  {
   "cell_type": "markdown",
   "metadata": {},
   "source": [
    "**Serhii Ozhereliev**\n",
    "\n",
    "Junior Data Scientist "
   ]
  },
  {
   "cell_type": "markdown",
   "metadata": {},
   "source": [
    "*I am interested in data science because it is extremely large field to grow in, it includes numerous technologies and tools to learn and I am excited about it.*"
   ]
  },
  {
   "cell_type": "markdown",
   "metadata": {},
   "source": [
    "### The following code outputs todays date"
   ]
  },
  {
   "cell_type": "code",
   "execution_count": 10,
   "metadata": {},
   "outputs": [
    {
     "name": "stdout",
     "output_type": "stream",
     "text": [
      "Today's date:  = 29/6/2022\n"
     ]
    }
   ],
   "source": [
    "import datetime\n",
    "e = datetime.datetime.now()\n",
    "print(\"Today's date:  = %s/%s/%s\" % (e.day, e.month, e.year))"
   ]
  },
  {
   "cell_type": "markdown",
   "metadata": {},
   "source": [
    " ||col1|col2|col3|\n",
    " |-|-|-|-|\n",
    " |row1|a|b|c|\n",
    " |row2|d|e|f|\n",
    " \n",
    " <a href=\"https://www.google.com\">Don't click</a> \n",
    " \n",
    " - slash\n",
    " - dash\n",
    "     - com\n",
    "     \n",
    "1. one\n",
    "2. two\n",
    "3. four\n",
    "\n",
    "<img src=\"https://upload.wikimedia.org/wikipedia/commons/thumb/2/25/The_Sun_by_the_Atmospheric_Imaging_Assembly_of_NASA%27s_Solar_Dynamics_Observatory_-_20100819-02.jpg/1200px-The_Sun_by_the_Atmospheric_Imaging_Assembly_of_NASA%27s_Solar_Dynamics_Observatory_-_20100819-02.jpg\" alt=\"Sun =)\" title=\"Title text\" width=\"200px\"/>"
   ]
  }
 ],
 "metadata": {
  "kernelspec": {
   "display_name": "Python",
   "language": "python",
   "name": "conda-env-python-py"
  },
  "language_info": {
   "codemirror_mode": {
    "name": "ipython",
    "version": 3
   },
   "file_extension": ".py",
   "mimetype": "text/x-python",
   "name": "python",
   "nbconvert_exporter": "python",
   "pygments_lexer": "ipython3",
   "version": "3.7.12"
  }
 },
 "nbformat": 4,
 "nbformat_minor": 4
}
